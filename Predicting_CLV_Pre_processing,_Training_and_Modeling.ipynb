{
  "nbformat": 4,
  "nbformat_minor": 0,
  "metadata": {
    "colab": {
      "provenance": []
    },
    "kernelspec": {
      "name": "python3",
      "display_name": "Python 3"
    },
    "language_info": {
      "name": "python"
    }
  },
  "cells": [
    {
      "cell_type": "markdown",
      "source": [
        "# Capstone 3: Predicting Customer Lifetime Value (CLV)\n",
        "\n",
        "## Predicting Customer Lifetime Value (CLV) to Optimize Targeted Marketing Strategies in E-Commerce\n",
        "\n",
        "This capstone project aims to enhance targeted marketing strategies in the e-commerce sector by accurately predicting CLV for the largest online department store in Brazil, encompassing 100,000 anonymized orders made between 2016 and 2018.\n",
        "\n",
        "Target feature: `customer_total_spend`\n",
        "\n",
        "## PRE-PROCESSING, TRAINING, AND MODELING\n",
        "\n",
        "## Table of Contents\n",
        "* [Feature Engineering](#feature_engineering)\n",
        "* [One-Hot Encoding](#one_hot_encoding)\n",
        "* [Train-Test Split](#train_test_split)\n",
        "* [Scaling](#scaling)\n",
        "* [Model Training and Evaluation](#model_training_evaluation)\n",
        "  * [Baseline Model: Linear Regression](#baseline_linear)\n",
        "      * [Non-Scaled Data](#nonscaled)\n",
        "      * [Scaled Data](#scaled)\n",
        "  * [Alternative Models](#alternative_models)\n",
        "      * [Random Forest, Gradient Boosting, Lasso](#random_gradient_lasso)\n",
        "  * [Ensemble Model](#ensemble)\n",
        "  * [Stacked Model](#stacked)\n",
        "* [Compare and Select the Best Model](#compare_select)\n",
        "* [Summary](#summary)"
      ],
      "metadata": {
        "id": "I4HMXt4Gorct"
      }
    },
    {
      "cell_type": "code",
      "source": [
        "import os\n",
        "import numpy as np\n",
        "import pandas as pd\n",
        "import matplotlib.pyplot as plt\n",
        "import seaborn as sns\n",
        "from sklearn.preprocessing import StandardScaler, OneHotEncoder\n",
        "from sklearn.ensemble import RandomForestRegressor, GradientBoostingRegressor, VotingRegressor, StackingRegressor\n",
        "from sklearn.linear_model import LinearRegression, Lasso\n",
        "from sklearn.model_selection import train_test_split, TimeSeriesSplit, GridSearchCV\n",
        "from sklearn.pipeline import Pipeline\n",
        "from sklearn.metrics import make_scorer, mean_squared_error, r2_score"
      ],
      "metadata": {
        "id": "SNg3awp7rq5E"
      },
      "execution_count": 22,
      "outputs": []
    },
    {
      "cell_type": "code",
      "source": [
        "from google.colab import drive\n",
        "drive.mount('/content/drive')\n",
        "\n",
        "import shutil  # Make sure to import the shutil module"
      ],
      "metadata": {
        "colab": {
          "base_uri": "https://localhost:8080/"
        },
        "id": "x20_tPrJrtxS",
        "outputId": "b5dbf322-87da-4ed5-9c00-dbd3b92dee1a"
      },
      "execution_count": 2,
      "outputs": [
        {
          "output_type": "stream",
          "name": "stdout",
          "text": [
            "Drive already mounted at /content/drive; to attempt to forcibly remount, call drive.mount(\"/content/drive\", force_remount=True).\n"
          ]
        }
      ]
    },
    {
      "cell_type": "code",
      "source": [
        "clv = pd.read_csv('/content/drive/My Drive/Colab Notebooks/df_clv_eda.csv')"
      ],
      "metadata": {
        "id": "hZ8fCY1qJfk1"
      },
      "execution_count": 3,
      "outputs": []
    },
    {
      "cell_type": "code",
      "source": [
        "clv.info()"
      ],
      "metadata": {
        "colab": {
          "base_uri": "https://localhost:8080/"
        },
        "id": "5_mB5xsRRFO7",
        "outputId": "a1866a4b-5fd7-4db7-b145-29719f57cf34"
      },
      "execution_count": 4,
      "outputs": [
        {
          "output_type": "stream",
          "name": "stdout",
          "text": [
            "<class 'pandas.core.frame.DataFrame'>\n",
            "RangeIndex: 92062 entries, 0 to 92061\n",
            "Data columns (total 17 columns):\n",
            " #   Column                               Non-Null Count  Dtype  \n",
            "---  ------                               --------------  -----  \n",
            " 0   customer_unique_id                   92062 non-null  object \n",
            " 1   customer_average_order_value         92062 non-null  float64\n",
            " 2   customer_tenure_days                 92062 non-null  int64  \n",
            " 3   customer_recency_days                92062 non-null  int64  \n",
            " 4   customer_total_orders_frequency      92062 non-null  int64  \n",
            " 5   customer_total_spend_monetary        92062 non-null  float64\n",
            " 6   customer_unique_products             92062 non-null  int64  \n",
            " 7   customer_category_diversity          92062 non-null  int64  \n",
            " 8   customer_average_product_price       92062 non-null  float64\n",
            " 9   customer_total_units                 92062 non-null  int64  \n",
            " 10  customer_average_delivery_time       92062 non-null  float64\n",
            " 11  customer_average_shipping_cost       92062 non-null  float64\n",
            " 12  customer_on_time_delivery_rate       92062 non-null  float64\n",
            " 13  customer_preferred_payment_type      92062 non-null  object \n",
            " 14  customer_average_installments        92062 non-null  float64\n",
            " 15  customer_total_payment_transactions  92062 non-null  int64  \n",
            " 16  customer_first_purchase_date         92062 non-null  object \n",
            "dtypes: float64(7), int64(7), object(3)\n",
            "memory usage: 11.9+ MB\n"
          ]
        }
      ]
    },
    {
      "cell_type": "markdown",
      "source": [
        "## Feature Engineering <a class=\"anchor\" id=\"feature_engineering\"></a>\n",
        "\n",
        "While the dataset above was created from our entire original dataset and was useful for exploring our data in the EDA portion of our analysis, in the context of feature engineering and data pre-processing we know that data leakage occurs when information from outside the training set is used to create or transform features, leading to overly optimistic performance estimates during model evaluation. In short, the statistical properties of the entire dataset, including the test set, were used to create these features, which wouldn't be available in a real-world scenario when making predictions on new data.\n",
        "\n",
        "For example,\n",
        "- **Customer Recency and Frequency Metrics (e.g., `customer_recency_days`, `customer_total_orders_frequency`):** These were calculated using data that includes periods extending into what becomes the test set, so there is potential leakage.\n",
        "- **Average Metrics (e.g., `customer_average_order_value`, `customer_average_product_price`, `customer_average_shipping_cost`):** Similar to scaling, these averages were computed using the entire dataset, including the test set, so the model has seen future information.\n",
        "\n",
        "Therefore, we need to split our original dataset shown below into train and test subsets first, and then recreate the same features for both subsets."
      ],
      "metadata": {
        "id": "JhM44FaOY3KC"
      }
    },
    {
      "cell_type": "code",
      "source": [
        "df = pd.read_csv('/content/drive/My Drive/Colab Notebooks/df_eda.csv')"
      ],
      "metadata": {
        "id": "BW-UiOB5cI8M"
      },
      "execution_count": 5,
      "outputs": []
    },
    {
      "cell_type": "code",
      "source": [
        "df.info()"
      ],
      "metadata": {
        "colab": {
          "base_uri": "https://localhost:8080/"
        },
        "id": "41YcWeZ_cxNB",
        "outputId": "6d528f54-8ca8-449d-acaf-4aed60e30515"
      },
      "execution_count": 6,
      "outputs": [
        {
          "output_type": "stream",
          "name": "stdout",
          "text": [
            "<class 'pandas.core.frame.DataFrame'>\n",
            "RangeIndex: 113367 entries, 0 to 113366\n",
            "Data columns (total 32 columns):\n",
            " #   Column                         Non-Null Count   Dtype  \n",
            "---  ------                         --------------   -----  \n",
            " 0   customer_id                    113367 non-null  object \n",
            " 1   customer_unique_id             113367 non-null  object \n",
            " 2   customer_zip_code_prefix       113367 non-null  int64  \n",
            " 3   customer_city                  113367 non-null  object \n",
            " 4   customer_state                 113367 non-null  object \n",
            " 5   order_id                       113367 non-null  object \n",
            " 6   order_status                   113367 non-null  object \n",
            " 7   order_purchase_timestamp       113367 non-null  object \n",
            " 8   order_approved_at              113367 non-null  object \n",
            " 9   order_delivered_carrier_date   113367 non-null  object \n",
            " 10  order_delivered_customer_date  113367 non-null  object \n",
            " 11  order_estimated_delivery_date  113367 non-null  object \n",
            " 12  order_item_id                  113367 non-null  int64  \n",
            " 13  product_id                     113367 non-null  object \n",
            " 14  seller_id                      113367 non-null  object \n",
            " 15  shipping_limit_date            113367 non-null  object \n",
            " 16  price                          113367 non-null  float64\n",
            " 17  freight_value                  113367 non-null  float64\n",
            " 18  product_name_lenght            113367 non-null  float64\n",
            " 19  product_description_lenght     113367 non-null  float64\n",
            " 20  product_photos_qty             113367 non-null  float64\n",
            " 21  product_weight_g               113367 non-null  float64\n",
            " 22  product_length_cm              113367 non-null  float64\n",
            " 23  product_height_cm              113367 non-null  float64\n",
            " 24  product_width_cm               113367 non-null  float64\n",
            " 25  payment_sequential             113367 non-null  int64  \n",
            " 26  payment_type                   113367 non-null  object \n",
            " 27  payment_installments           113367 non-null  int64  \n",
            " 28  payment_value                  113367 non-null  float64\n",
            " 29  product_category               113367 non-null  object \n",
            " 30  delivery_time_days             113367 non-null  int64  \n",
            " 31  on_time_delivery               113367 non-null  bool   \n",
            "dtypes: bool(1), float64(10), int64(5), object(16)\n",
            "memory usage: 26.9+ MB\n"
          ]
        }
      ]
    },
    {
      "cell_type": "code",
      "source": [
        "# Check for duplicates\n",
        "df.duplicated().sum()"
      ],
      "metadata": {
        "colab": {
          "base_uri": "https://localhost:8080/"
        },
        "id": "BUwLostztxr8",
        "outputId": "856044e0-1cfd-4671-cec3-07f33f9d95f3"
      },
      "execution_count": 7,
      "outputs": [
        {
          "output_type": "execute_result",
          "data": {
            "text/plain": [
              "0"
            ]
          },
          "metadata": {},
          "execution_count": 7
        }
      ]
    },
    {
      "cell_type": "markdown",
      "source": [
        "A function was created to engineer the features separately for the train and test subsets, recreating the same features on both."
      ],
      "metadata": {
        "id": "roj0OInp4ORx"
      }
    },
    {
      "cell_type": "code",
      "source": [
        "def engineer_customer_features(df, ref_date):\n",
        "    # Calculate delivery time days\n",
        "    df.loc[:,'delivery_time_days'] = (df['order_delivered_customer_date'] - df['order_purchase_timestamp']).dt.days\n",
        "\n",
        "    # Determine if deliveries were on time\n",
        "    df.loc[:,'on_time_delivery'] = df['order_delivered_customer_date'] <= df['order_estimated_delivery_date']\n",
        "\n",
        "    # Grouping by 'customer_unique_id' and applying multiple aggregations\n",
        "    aggregations = {\n",
        "        'order_id': 'nunique',\n",
        "        'payment_value': 'sum',\n",
        "        'product_id': 'nunique',\n",
        "        'product_category': 'nunique',\n",
        "        'price': 'mean',\n",
        "        'order_item_id': 'count',\n",
        "        'delivery_time_days': 'mean',\n",
        "        'freight_value': 'mean',\n",
        "        'on_time_delivery': 'mean',\n",
        "        'payment_installments': 'mean',\n",
        "        'payment_sequential': 'sum',\n",
        "        'order_purchase_timestamp': ['min', 'max']\n",
        "    }\n",
        "\n",
        "    # Creating initial aggregates\n",
        "    agg_df = df.groupby('customer_unique_id').agg(aggregations).reset_index()\n",
        "\n",
        "    # Renaming columns\n",
        "    agg_df.columns = [\n",
        "        'customer_unique_id',\n",
        "        'customer_total_orders',\n",
        "        'customer_total_spend',\n",
        "        'customer_unique_products',\n",
        "        'customer_category_diversity',\n",
        "        'customer_average_product_price',\n",
        "        'customer_total_units',\n",
        "        'customer_average_delivery_time',\n",
        "        'customer_average_shipping_cost',\n",
        "        'customer_on_time_delivery_rate',\n",
        "        'customer_average_installments',\n",
        "        'customer_total_payment_transactions',\n",
        "        'first_purchase_date',\n",
        "        'last_purchase_date'\n",
        "]\n",
        "\n",
        "    # Calculating additional features\n",
        "    agg_df['customer_average_order_value'] = agg_df['customer_total_spend'] / agg_df['customer_total_orders']\n",
        "    agg_df['customer_tenure_days'] = (agg_df['last_purchase_date'] - agg_df['first_purchase_date']).dt.days\n",
        "    agg_df['customer_recency_days'] = (agg_df['last_purchase_date'].max() - agg_df['last_purchase_date']).dt.days\n",
        "\n",
        "    # Preferred Payment Method\n",
        "    preferred_payment_method = df.groupby(['customer_unique_id', 'payment_type']).size().reset_index(name='counts')\n",
        "    preferred_payment_method = preferred_payment_method.sort_values('counts', ascending=False).drop_duplicates('customer_unique_id')\n",
        "    preferred_payment_method = preferred_payment_method[['customer_unique_id', 'payment_type']]\n",
        "    preferred_payment_method = preferred_payment_method.rename(columns={'payment_type': 'customer_preferred_payment_type'})\n",
        "\n",
        "    # Merging the preferred payment method\n",
        "    agg_df = agg_df.merge(preferred_payment_method, on='customer_unique_id', how='left')\n",
        "\n",
        "    return agg_df"
      ],
      "metadata": {
        "id": "8_Bt9j2Hz0jn"
      },
      "execution_count": 8,
      "outputs": []
    },
    {
      "cell_type": "markdown",
      "source": [
        "We sort the data by time, and then split the data so that the train set holds 80% of the data and the test set holds 20% of the data."
      ],
      "metadata": {
        "id": "5-iTno4Pzu5y"
      }
    },
    {
      "cell_type": "code",
      "source": [
        "# Convert date columns to datetime\n",
        "date_columns = [\n",
        "    'order_purchase_timestamp',\n",
        "    'order_delivered_customer_date',\n",
        "    'order_estimated_delivery_date',\n",
        "    'order_approved_at',\n",
        "    'order_delivered_carrier_date'\n",
        "]\n",
        "for col in date_columns:\n",
        "    if col in df.columns:\n",
        "        df[col] = pd.to_datetime(df[col])\n",
        "\n",
        "# Ensure the data is sorted by the purchase timestamp\n",
        "df = df.sort_values(by='order_purchase_timestamp')\n",
        "\n",
        "# Find the 80th percentile cut-off date\n",
        "cutoff_date = df['order_purchase_timestamp'].quantile(0.8)\n",
        "\n",
        "# Split the data\n",
        "train_df = df[df['order_purchase_timestamp'] < cutoff_date]\n",
        "test_df = df[df['order_purchase_timestamp'] >= cutoff_date]\n",
        "\n",
        "# Feature engineering on both training and test sets\n",
        "train_features_df = engineer_customer_features(train_df, cutoff_date)\n",
        "test_features_df = engineer_customer_features(test_df, cutoff_date)\n",
        "\n",
        "# Select only the relevant columns\n",
        "final_columns = [\n",
        "    'customer_unique_id', 'customer_total_orders', 'customer_total_spend', 'customer_average_order_value',\n",
        "    'customer_tenure_days', 'customer_recency_days', 'customer_unique_products',\n",
        "    'customer_category_diversity', 'customer_average_product_price',\n",
        "    'customer_total_units', 'customer_average_delivery_time',\n",
        "    'customer_average_shipping_cost', 'customer_on_time_delivery_rate',\n",
        "    'customer_preferred_payment_type', 'customer_average_installments',\n",
        "    'customer_total_payment_transactions'\n",
        "]\n",
        "\n",
        "train_features_df = train_features_df[final_columns]\n",
        "test_features_df = test_features_df[final_columns]"
      ],
      "metadata": {
        "id": "g8u7gIoZx72Q"
      },
      "execution_count": 11,
      "outputs": []
    },
    {
      "cell_type": "code",
      "source": [
        "train_features_df.info()"
      ],
      "metadata": {
        "colab": {
          "base_uri": "https://localhost:8080/"
        },
        "id": "5oA-cNqC3ZUY",
        "outputId": "06565e12-dce0-4760-ae0a-0fcff0db1cd0"
      },
      "execution_count": 12,
      "outputs": [
        {
          "output_type": "stream",
          "name": "stdout",
          "text": [
            "<class 'pandas.core.frame.DataFrame'>\n",
            "RangeIndex: 73443 entries, 0 to 73442\n",
            "Data columns (total 16 columns):\n",
            " #   Column                               Non-Null Count  Dtype  \n",
            "---  ------                               --------------  -----  \n",
            " 0   customer_unique_id                   73443 non-null  object \n",
            " 1   customer_total_orders                73443 non-null  int64  \n",
            " 2   customer_total_spend                 73443 non-null  float64\n",
            " 3   customer_average_order_value         73443 non-null  float64\n",
            " 4   customer_tenure_days                 73443 non-null  int64  \n",
            " 5   customer_recency_days                73443 non-null  int64  \n",
            " 6   customer_unique_products             73443 non-null  int64  \n",
            " 7   customer_category_diversity          73443 non-null  int64  \n",
            " 8   customer_average_product_price       73443 non-null  float64\n",
            " 9   customer_total_units                 73443 non-null  int64  \n",
            " 10  customer_average_delivery_time       73443 non-null  float64\n",
            " 11  customer_average_shipping_cost       73443 non-null  float64\n",
            " 12  customer_on_time_delivery_rate       73443 non-null  float64\n",
            " 13  customer_preferred_payment_type      73443 non-null  object \n",
            " 14  customer_average_installments        73443 non-null  float64\n",
            " 15  customer_total_payment_transactions  73443 non-null  int64  \n",
            "dtypes: float64(7), int64(7), object(2)\n",
            "memory usage: 9.0+ MB\n"
          ]
        }
      ]
    },
    {
      "cell_type": "code",
      "source": [
        "test_features_df.info()"
      ],
      "metadata": {
        "colab": {
          "base_uri": "https://localhost:8080/"
        },
        "id": "L8-WqHge3Zd_",
        "outputId": "b9b4eb73-df71-4974-9dc2-dbd53964b6d4"
      },
      "execution_count": 13,
      "outputs": [
        {
          "output_type": "stream",
          "name": "stdout",
          "text": [
            "<class 'pandas.core.frame.DataFrame'>\n",
            "RangeIndex: 19055 entries, 0 to 19054\n",
            "Data columns (total 16 columns):\n",
            " #   Column                               Non-Null Count  Dtype  \n",
            "---  ------                               --------------  -----  \n",
            " 0   customer_unique_id                   19055 non-null  object \n",
            " 1   customer_total_orders                19055 non-null  int64  \n",
            " 2   customer_total_spend                 19055 non-null  float64\n",
            " 3   customer_average_order_value         19055 non-null  float64\n",
            " 4   customer_tenure_days                 19055 non-null  int64  \n",
            " 5   customer_recency_days                19055 non-null  int64  \n",
            " 6   customer_unique_products             19055 non-null  int64  \n",
            " 7   customer_category_diversity          19055 non-null  int64  \n",
            " 8   customer_average_product_price       19055 non-null  float64\n",
            " 9   customer_total_units                 19055 non-null  int64  \n",
            " 10  customer_average_delivery_time       19055 non-null  float64\n",
            " 11  customer_average_shipping_cost       19055 non-null  float64\n",
            " 12  customer_on_time_delivery_rate       19055 non-null  float64\n",
            " 13  customer_preferred_payment_type      19055 non-null  object \n",
            " 14  customer_average_installments        19055 non-null  float64\n",
            " 15  customer_total_payment_transactions  19055 non-null  int64  \n",
            "dtypes: float64(7), int64(7), object(2)\n",
            "memory usage: 2.3+ MB\n"
          ]
        }
      ]
    },
    {
      "cell_type": "markdown",
      "source": [
        "## One-Hot Encoding <a id=\"one_hot_encoding\"></a>\n",
        "\n",
        "Next, we apply one-hot encoding, which:\n",
        "- Fits the encoder on the training subset only to avoid data leakage.\n",
        "- Transforms both the training and test subsets with the fitted encoder.\n",
        "- Creates data frames for the encoded features and merges them back into the original data frames after dropping the original column."
      ],
      "metadata": {
        "id": "bpxNilyM6BKh"
      }
    },
    {
      "cell_type": "code",
      "source": [
        "# One-hot encoding\n",
        "encoder = OneHotEncoder(sparse=False, handle_unknown='ignore')\n",
        "\n",
        "# Fit the encoder only on training data and transform both training and test sets\n",
        "encoded_train_features = encoder.fit_transform(train_features_df[['customer_preferred_payment_type']])\n",
        "encoded_test_features = encoder.transform(test_features_df[['customer_preferred_payment_type']])\n",
        "\n",
        "# Create DataFrame with the encoded features\n",
        "encoded_columns = encoder.get_feature_names_out(['customer_preferred_payment_type'])\n",
        "encoded_train_df = pd.DataFrame(encoded_train_features, columns=encoded_columns, index=train_features_df.index)\n",
        "encoded_test_df = pd.DataFrame(encoded_test_features, columns=encoded_columns, index=test_features_df.index)\n",
        "\n",
        "# Drop the original 'customer_preferred_payment_type' column and add the encoded features\n",
        "train_features_df = train_features_df.drop(columns=['customer_preferred_payment_type']).join(encoded_train_df)\n",
        "test_features_df = test_features_df.drop(columns=['customer_preferred_payment_type']).join(encoded_test_df)\n"
      ],
      "metadata": {
        "colab": {
          "base_uri": "https://localhost:8080/"
        },
        "id": "FYrFv4mS5cQX",
        "outputId": "34a04be5-ce5b-4fc0-c253-da09ce1555d4"
      },
      "execution_count": 14,
      "outputs": [
        {
          "output_type": "stream",
          "name": "stderr",
          "text": [
            "/usr/local/lib/python3.10/dist-packages/sklearn/preprocessing/_encoders.py:975: FutureWarning: `sparse` was renamed to `sparse_output` in version 1.2 and will be removed in 1.4. `sparse_output` is ignored unless you leave `sparse` to its default value.\n",
            "  warnings.warn(\n"
          ]
        }
      ]
    },
    {
      "cell_type": "markdown",
      "source": [
        "## Train-Test Split <a id=\"train_test_split\"></a>\n",
        "\n",
        "Now we drop non-relevant features. In this case, we only have one."
      ],
      "metadata": {
        "id": "Q-52gm3P74cY"
      }
    },
    {
      "cell_type": "code",
      "source": [
        "# Drop non-relevant features\n",
        "train_features_df = train_features_df.drop(columns=['customer_unique_id'])\n",
        "test_features_df = test_features_df.drop(columns=['customer_unique_id'])"
      ],
      "metadata": {
        "id": "UDr61ydskVXB"
      },
      "execution_count": 15,
      "outputs": []
    },
    {
      "cell_type": "markdown",
      "source": [
        "We split the data (non-scaled) for model evaluation.\n",
        "Because we will be performing cross-validation to further ensure that the model is robust and its performace estimates are accurate, we will split again, this time using sklearn's TimeSeriesSplit."
      ],
      "metadata": {
        "id": "h1Ql8v3Mu6Yw"
      }
    },
    {
      "cell_type": "code",
      "source": [
        "# Test-train split\n",
        "target_column_name = 'customer_total_spend'\n",
        "\n",
        "X_train = train_features_df.drop(columns=[target_column_name])\n",
        "y_train = train_features_df[target_column_name]\n",
        "X_test = test_features_df.drop(columns=[target_column_name])\n",
        "y_test = test_features_df[target_column_name]"
      ],
      "metadata": {
        "id": "ISsBZKSP5cHe"
      },
      "execution_count": 16,
      "outputs": []
    },
    {
      "cell_type": "markdown",
      "source": [
        "## Scaling <a class=\"anchor\" id=\"scaling\"></a>\n",
        "\n",
        "Then we scale the data using standardization."
      ],
      "metadata": {
        "id": "1NNTTJaQjhCF"
      }
    },
    {
      "cell_type": "code",
      "source": [
        "# Initialize the scaler\n",
        "scaler = StandardScaler()\n",
        "\n",
        "# Fit the scaler on the training data and transform both train and test data\n",
        "scaled_X_train = scaler.fit_transform(X_train)\n",
        "scaled_X_test = scaler.transform(X_test)"
      ],
      "metadata": {
        "id": "hPKEJAlJjjgW"
      },
      "execution_count": 17,
      "outputs": []
    },
    {
      "cell_type": "markdown",
      "source": [
        "## Model Training and Evaluation <a id=\"model_training_evaluation\"></a>\n",
        "\n",
        "### Linear Regression <a id=\"linear regression\"></a>\n",
        "\n",
        "We will use linear regression as our baseline model. We will also use this model to evaluate how the model performs using scaled and non-scaled data.\n",
        "\n",
        "#### Non-Scaled Data <a id=\"nonscaled\"></a>\n",
        "\n",
        "First, we evaluate the model using non-scaled data."
      ],
      "metadata": {
        "id": "5yT0dpp-pWmG"
      }
    },
    {
      "cell_type": "code",
      "source": [
        "# Initialize the linear regression model.\n",
        "lr = LinearRegression()\n",
        "\n",
        "# Train and evaluate on non-scaled data\n",
        "lr.fit(X_train, y_train)\n",
        "y_pred_non_scaled = lr.predict(X_test)\n",
        "lr_mse_non_scaled = mean_squared_error(y_test, y_pred_non_scaled)\n",
        "lr_r2_non_scaled = r2_score(y_test, y_pred_non_scaled)\n",
        "\n",
        "print(\"MSE with non-scaled data:\", lr_mse_non_scaled)\n",
        "print(\"R² with non-scaled data:\", lr_r2_non_scaled)\n"
      ],
      "metadata": {
        "colab": {
          "base_uri": "https://localhost:8080/"
        },
        "id": "7EnPc9K8pazo",
        "outputId": "103bbd3d-6122-491f-9a02-1fc62ff19ad3"
      },
      "execution_count": 18,
      "outputs": [
        {
          "output_type": "stream",
          "name": "stdout",
          "text": [
            "MSE with non-scaled data: 23515.244872101357\n",
            "R² with non-scaled data: 0.9154561387292974\n"
          ]
        }
      ]
    },
    {
      "cell_type": "markdown",
      "source": [
        "#### Scaled Data <a id=\"scaled\"></a>\n",
        "\n",
        "Then we train and evaluate linear regression on scaled data."
      ],
      "metadata": {
        "id": "wwI0h7EKpeTQ"
      }
    },
    {
      "cell_type": "code",
      "source": [
        "# Train and evaluate on scaled data\n",
        "lr.fit(scaled_X_train, y_train)\n",
        "y_pred_scaled = lr.predict(scaled_X_test)\n",
        "lr_mse_scaled = mean_squared_error(y_test, y_pred_scaled)\n",
        "lr_r2_scaled = r2_score(y_test, y_pred_scaled)\n",
        "\n",
        "print(\"MSE with scaled data:\", lr_mse_scaled)\n",
        "print(\"R² with scaled data:\", lr_r2_scaled)"
      ],
      "metadata": {
        "colab": {
          "base_uri": "https://localhost:8080/"
        },
        "id": "gyd5HvPqpoPE",
        "outputId": "cc1cfb7c-e806-4157-8e84-9e01380f2323"
      },
      "execution_count": 19,
      "outputs": [
        {
          "output_type": "stream",
          "name": "stdout",
          "text": [
            "MSE with scaled data: 23515.24487210138\n",
            "R² with scaled data: 0.9154561387292973\n"
          ]
        }
      ]
    },
    {
      "cell_type": "markdown",
      "source": [
        "We see that the same scores were returned for both non-scaled and scaled data.\n",
        "\n",
        "Below, we do a final check and confirm that the data was properly scaled."
      ],
      "metadata": {
        "id": "K81dQxMisdK5"
      }
    },
    {
      "cell_type": "code",
      "source": [
        "# Check the mean and standard deviation of the original and scaled data\n",
        "original_mean = np.mean(X_train, axis=0)\n",
        "original_std = np.std(X_train, axis=0)\n",
        "\n",
        "scaled_mean = np.mean(scaled_X_train, axis=0)\n",
        "scaled_std = np.std(scaled_X_train, axis=0)\n",
        "\n",
        "print(\"\\nOriginal means:\\n\", original_mean)\n",
        "print(\"Original standard deviations:\\n\", original_std)\n",
        "\n",
        "print(\"\\nScaled means (should be close to 0):\", scaled_mean)\n",
        "print(\"Scaled standard deviations (should be close to 1):\", scaled_std)"
      ],
      "metadata": {
        "colab": {
          "base_uri": "https://localhost:8080/"
        },
        "id": "thyIypVqKlrO",
        "outputId": "c8e21b67-e514-4cdb-9c15-f08edc54cffd"
      },
      "execution_count": 20,
      "outputs": [
        {
          "output_type": "stream",
          "name": "stdout",
          "text": [
            "\n",
            "Original means:\n",
            " customer_total_orders                            1.032447\n",
            "customer_average_order_value                   204.879597\n",
            "customer_tenure_days                             2.064662\n",
            "customer_recency_days                          190.029397\n",
            "customer_unique_products                         1.067644\n",
            "customer_category_diversity                      1.023420\n",
            "customer_average_product_price                 125.350372\n",
            "customer_total_units                             1.234876\n",
            "customer_average_delivery_time                  13.062853\n",
            "customer_average_shipping_cost                  19.701096\n",
            "customer_on_time_delivery_rate                   0.911407\n",
            "customer_average_installments                    2.932070\n",
            "customer_total_payment_transactions              1.356058\n",
            "customer_preferred_payment_type_boleto           0.203655\n",
            "customer_preferred_payment_type_credit_card      0.761693\n",
            "customer_preferred_payment_type_debit_card       0.010171\n",
            "customer_preferred_payment_type_voucher          0.024482\n",
            "dtype: float64\n",
            "Original standard deviations:\n",
            " customer_total_orders                            0.202300\n",
            "customer_average_order_value                   651.480121\n",
            "customer_tenure_days                            20.478248\n",
            "customer_recency_days                          131.233333\n",
            "customer_unique_products                         0.311229\n",
            "customer_category_diversity                      0.161759\n",
            "customer_average_product_price                 186.869691\n",
            "customer_total_units                             0.834675\n",
            "customer_average_delivery_time                  10.052688\n",
            "customer_average_shipping_cost                  14.813570\n",
            "customer_on_time_delivery_rate                   0.282781\n",
            "customer_average_installments                    2.706772\n",
            "customer_total_payment_transactions              4.221646\n",
            "customer_preferred_payment_type_boleto           0.402715\n",
            "customer_preferred_payment_type_credit_card      0.426048\n",
            "customer_preferred_payment_type_debit_card       0.100338\n",
            "customer_preferred_payment_type_voucher          0.154539\n",
            "dtype: float64\n",
            "\n",
            "Scaled means (should be close to 0): [ 1.29061178e-16 -8.32028584e-18  3.50225985e-17 -8.01069381e-17\n",
            " -1.21031135e-16  9.79084799e-17 -1.16097012e-17  6.24988913e-17\n",
            "  2.27743638e-16  1.79563378e-16  6.57109086e-16  5.94029710e-17\n",
            " -3.37648809e-17 -1.03132845e-16  9.24906193e-17  3.86990039e-19\n",
            "  3.48291035e-18]\n",
            "Scaled standard deviations (should be close to 1): [1. 1. 1. 1. 1. 1. 1. 1. 1. 1. 1. 1. 1. 1. 1. 1. 1.]\n"
          ]
        }
      ]
    },
    {
      "cell_type": "markdown",
      "source": [
        "We can conclude that, having observed the same scores for both scaled and unscaled data, the original features are on the same scale.\n",
        "\n",
        "## Alternative Models <a id=\"alternative_models\"></a>\n",
        "\n",
        "### Random Forest, Gradient Boosting, Lasso <a id=\"random_gradient_lasso\"></a>\n",
        "\n",
        "We will now evaluate the following models, selected for their diversity:\n",
        "- Linear Regression (already evaluated) and Lasso are both linear models but with different regularizations.\n",
        "- Random Forest Regressor and Gradient Boosting Regressor are both tree-based, but Random Forest is bagging while Gradient Boosting is boosting.\n",
        "\n",
        "Note: Because we are using cross-validation, we are employing TimeSeriesSplit to respect the temporality of the data.\n"
      ],
      "metadata": {
        "id": "3abDWm4hQD4U"
      }
    },
    {
      "cell_type": "code",
      "source": [
        "# Define the model pipeline using a parameter for switching models\n",
        "pipeline = Pipeline([\n",
        "    ('regressor', RandomForestRegressor(random_state=42))  # Placeholder, will be replaced in param_grid\n",
        "])\n",
        "\n",
        "# Define a parameter grid with parameters for each of the models\n",
        "param_grid = [\n",
        "    {\n",
        "        'regressor': [RandomForestRegressor(random_state=42)],\n",
        "        'regressor__n_estimators': [100, 200],\n",
        "        'regressor__max_depth': [10, 20, None]\n",
        "    },\n",
        "    {\n",
        "        'regressor': [GradientBoostingRegressor(random_state=42)],\n",
        "        'regressor__n_estimators': [100, 200],\n",
        "        'regressor__max_depth': [3, 5, 7]\n",
        "    },\n",
        "    {\n",
        "        'regressor': [Lasso(random_state=42)],\n",
        "        'regressor__alpha': [0.1, 1, 10]\n",
        "    }\n",
        "]\n",
        "\n",
        "# Define TimeSeriesSplit for cross-validation\n",
        "tss = TimeSeriesSplit(n_splits=3)\n",
        "\n",
        "# Use R^2 as the scoring metric for consistency\n",
        "scorer = make_scorer(r2_score)\n",
        "\n",
        "# Initialize GridSearchCV with TimeSeriesSplit\n",
        "grid_search = GridSearchCV(pipeline, param_grid, cv=tss, n_jobs=-1, verbose=2, scoring=scorer, return_train_score=True)\n",
        "\n",
        "# Fit the model\n",
        "grid_search.fit(X_train, y_train)\n",
        "\n",
        "# Print best hyperparameters\n",
        "print(f'Best Hyperparameters: {grid_search.best_params_}')\n",
        "\n",
        "# Evaluate the best model\n",
        "best_model = grid_search.best_estimator_\n",
        "y_pred_best = best_model.predict(X_test)\n",
        "\n",
        "mse_best = mean_squared_error(y_test, y_pred_best)\n",
        "r2_best = r2_score(y_test, y_pred_best)\n",
        "\n",
        "print('Best Model:')\n",
        "print(f' Mean Squared Error: {mse_best}')\n",
        "print(f' R^2 Score: {r2_best}')"
      ],
      "metadata": {
        "colab": {
          "base_uri": "https://localhost:8080/"
        },
        "id": "fplyLoc2YbTs",
        "outputId": "eb95546d-510e-47da-c859-d62fd8f360dc"
      },
      "execution_count": 28,
      "outputs": [
        {
          "output_type": "stream",
          "name": "stdout",
          "text": [
            "Fitting 3 folds for each of 15 candidates, totalling 45 fits\n",
            "Best Hyperparameters: {'regressor': Lasso(random_state=42), 'regressor__alpha': 0.1}\n",
            "Best Model:\n",
            " Mean Squared Error: 23596.38009457678\n",
            " R^2 Score: 0.9151644349843252\n"
          ]
        }
      ]
    },
    {
      "cell_type": "code",
      "source": [
        "# Gathering the results\n",
        "results = grid_search.cv_results_\n",
        "\n",
        "# Print a detailed breakdown of scores and parameters for each model\n",
        "print(\"\\nCross-Validation Results Breakdown:\\n\")\n",
        "for mean_train_score, mean_test_score, params in zip(results['mean_train_score'], results['mean_test_score'], results['params']):\n",
        "    print(f\"Train R^2 Score: {mean_train_score:.4f}, Test R^2 Score: {mean_test_score:.4f}, Parameters: {params}\")\n",
        "\n",
        "# Plotting the performance metrics\n",
        "import matplotlib.pyplot as plt\n",
        "\n",
        "alphas = [0.1, 1, 10]\n",
        "train_scores = [results['mean_train_score'][i] for i, param in enumerate(results['params']) if param['regressor'].__class__.__name__ == 'Lasso']\n",
        "test_scores = [results['mean_test_score'][i] for i, param in enumerate(results['params']) if param['regressor'].__class__.__name__ == 'Lasso']\n",
        "\n",
        "plt.figure()\n",
        "plt.plot(alphas, train_scores, label='Train R^2 Scores')\n",
        "plt.plot(alphas, test_scores, label='Test R^2 Scores')\n",
        "plt.xlabel('Alpha')\n",
        "plt.ylabel('R^2 Score')\n",
        "plt.title('Lasso Regression Performance')\n",
        "plt.legend()\n",
        "plt.xscale('log')\n",
        "plt.show()\n",
        "\n",
        "# Looping through the results and printing them\n",
        "for mean_score, params in zip(results['mean_test_score'], results['params']):\n",
        "    print(f\"Score: {mean_score:.4f}, Parameters: {params}\")"
      ],
      "metadata": {
        "colab": {
          "base_uri": "https://localhost:8080/",
          "height": 1000
        },
        "id": "XeRR5BvgYby_",
        "outputId": "1cb4242e-51b4-4a21-cf79-a83cd2940dce"
      },
      "execution_count": 29,
      "outputs": [
        {
          "output_type": "stream",
          "name": "stdout",
          "text": [
            "\n",
            "Cross-Validation Results Breakdown:\n",
            "\n",
            "Train R^2 Score: 0.9508, Test R^2 Score: 0.9182, Parameters: {'regressor': RandomForestRegressor(random_state=42), 'regressor__max_depth': 10, 'regressor__n_estimators': 100}\n",
            "Train R^2 Score: 0.9532, Test R^2 Score: 0.9203, Parameters: {'regressor': RandomForestRegressor(random_state=42), 'regressor__max_depth': 10, 'regressor__n_estimators': 200}\n",
            "Train R^2 Score: 0.9498, Test R^2 Score: 0.9177, Parameters: {'regressor': RandomForestRegressor(random_state=42), 'regressor__max_depth': 20, 'regressor__n_estimators': 100}\n",
            "Train R^2 Score: 0.9526, Test R^2 Score: 0.9205, Parameters: {'regressor': RandomForestRegressor(random_state=42), 'regressor__max_depth': 20, 'regressor__n_estimators': 200}\n",
            "Train R^2 Score: 0.9506, Test R^2 Score: 0.9185, Parameters: {'regressor': RandomForestRegressor(random_state=42), 'regressor__max_depth': None, 'regressor__n_estimators': 100}\n",
            "Train R^2 Score: 0.9530, Test R^2 Score: 0.9194, Parameters: {'regressor': RandomForestRegressor(random_state=42), 'regressor__max_depth': None, 'regressor__n_estimators': 200}\n",
            "Train R^2 Score: 0.9998, Test R^2 Score: 0.9541, Parameters: {'regressor': GradientBoostingRegressor(random_state=42), 'regressor__max_depth': 3, 'regressor__n_estimators': 100}\n",
            "Train R^2 Score: 0.9999, Test R^2 Score: 0.9543, Parameters: {'regressor': GradientBoostingRegressor(random_state=42), 'regressor__max_depth': 3, 'regressor__n_estimators': 200}\n",
            "Train R^2 Score: 1.0000, Test R^2 Score: 0.9280, Parameters: {'regressor': GradientBoostingRegressor(random_state=42), 'regressor__max_depth': 5, 'regressor__n_estimators': 100}\n",
            "Train R^2 Score: 1.0000, Test R^2 Score: 0.9280, Parameters: {'regressor': GradientBoostingRegressor(random_state=42), 'regressor__max_depth': 5, 'regressor__n_estimators': 200}\n",
            "Train R^2 Score: 1.0000, Test R^2 Score: 0.9110, Parameters: {'regressor': GradientBoostingRegressor(random_state=42), 'regressor__max_depth': 7, 'regressor__n_estimators': 100}\n",
            "Train R^2 Score: 1.0000, Test R^2 Score: 0.9110, Parameters: {'regressor': GradientBoostingRegressor(random_state=42), 'regressor__max_depth': 7, 'regressor__n_estimators': 200}\n",
            "Train R^2 Score: 0.9910, Test R^2 Score: 0.9776, Parameters: {'regressor': Lasso(random_state=42), 'regressor__alpha': 0.1}\n",
            "Train R^2 Score: 0.9908, Test R^2 Score: 0.9774, Parameters: {'regressor': Lasso(random_state=42), 'regressor__alpha': 1}\n",
            "Train R^2 Score: 0.9892, Test R^2 Score: 0.9738, Parameters: {'regressor': Lasso(random_state=42), 'regressor__alpha': 10}\n"
          ]
        },
        {
          "output_type": "display_data",
          "data": {
            "text/plain": [
              "<Figure size 640x480 with 1 Axes>"
            ],
            "image/png": "[encoded data removed]"
          },
          "metadata": {}
        },
        {
          "output_type": "stream",
          "name": "stdout",
          "text": [
            "Score: 0.9182, Parameters: {'regressor': RandomForestRegressor(random_state=42), 'regressor__max_depth': 10, 'regressor__n_estimators': 100}\n",
            "Score: 0.9203, Parameters: {'regressor': RandomForestRegressor(random_state=42), 'regressor__max_depth': 10, 'regressor__n_estimators': 200}\n",
            "Score: 0.9177, Parameters: {'regressor': RandomForestRegressor(random_state=42), 'regressor__max_depth': 20, 'regressor__n_estimators': 100}\n",
            "Score: 0.9205, Parameters: {'regressor': RandomForestRegressor(random_state=42), 'regressor__max_depth': 20, 'regressor__n_estimators': 200}\n",
            "Score: 0.9185, Parameters: {'regressor': RandomForestRegressor(random_state=42), 'regressor__max_depth': None, 'regressor__n_estimators': 100}\n",
            "Score: 0.9194, Parameters: {'regressor': RandomForestRegressor(random_state=42), 'regressor__max_depth': None, 'regressor__n_estimators': 200}\n",
            "Score: 0.9541, Parameters: {'regressor': GradientBoostingRegressor(random_state=42), 'regressor__max_depth': 3, 'regressor__n_estimators': 100}\n",
            "Score: 0.9543, Parameters: {'regressor': GradientBoostingRegressor(random_state=42), 'regressor__max_depth': 3, 'regressor__n_estimators': 200}\n",
            "Score: 0.9280, Parameters: {'regressor': GradientBoostingRegressor(random_state=42), 'regressor__max_depth': 5, 'regressor__n_estimators': 100}\n",
            "Score: 0.9280, Parameters: {'regressor': GradientBoostingRegressor(random_state=42), 'regressor__max_depth': 5, 'regressor__n_estimators': 200}\n",
            "Score: 0.9110, Parameters: {'regressor': GradientBoostingRegressor(random_state=42), 'regressor__max_depth': 7, 'regressor__n_estimators': 100}\n",
            "Score: 0.9110, Parameters: {'regressor': GradientBoostingRegressor(random_state=42), 'regressor__max_depth': 7, 'regressor__n_estimators': 200}\n",
            "Score: 0.9776, Parameters: {'regressor': Lasso(random_state=42), 'regressor__alpha': 0.1}\n",
            "Score: 0.9774, Parameters: {'regressor': Lasso(random_state=42), 'regressor__alpha': 1}\n",
            "Score: 0.9738, Parameters: {'regressor': Lasso(random_state=42), 'regressor__alpha': 10}\n"
          ]
        }
      ]
    },
    {
      "cell_type": "markdown",
      "source": [
        "The results show the cross-validation scores for each set of parameters used during the `GridSearchCV` process, with a detailed breakdown of both training and test R^2 scores:\n",
        "- **Train R^2 Score**: How well the model fits the training data in each cross-validation fold.\n",
        "- **Test R^2 Score**: How well the model performs on the validation (test) data in each cross-validation fold.\n",
        "\n",
        "### Interpretation\n",
        "\n",
        "1. **RandomForestRegressor**:\n",
        "    - The train and test scores are high and quite close to each other, indicating a relatively good fit without significant overfitting for the majority of the parameter combinations.\n",
        "    - Example: `{'regressor__max_depth': 10, 'regressor__n_estimators': 100}`, Train R^2: 0.9508, Test R^2: 0.9182\n",
        "\n",
        "2. **GradientBoostingRegressor**:\n",
        "    - The train scores are extremely high (close to 1), especially for deeper trees, which can indicate overfitting.\n",
        "    - The test scores remain high but are somewhat lower than the train scores, which further suggests some overfitting.\n",
        "    - Example: `{'regressor__max_depth': 3, 'regressor__n_estimators': 100}`, Train R^2: 0.9998, Test R^2: 0.9541\n",
        "\n",
        "3. **Lasso**:\n",
        "    - Lasso regression shows high and balanced train and test R^2 scores, indicating good performance with less overfitting compared to the others.\n",
        "    - Example: `{'regressor__alpha': 0.1}`, Train R^2: 0.9910, Test R^2: 0.9776\n",
        "\n",
        "### Key Takeaways\n",
        "\n",
        "1. **Overfitting**: Models like `GradientBoostingRegressor` with deeper trees show signs of overfitting (Train R^2 very close to 1, Test R^2 slightly lower).\n",
        "2. **Balanced Performance**: `Lasso` provides a more balanced performance, with minimal difference between train and test scores.\n",
        "3. **Final Test Set Performance**: Even though `Lasso` shows a slightly lower cross-validated R^2 score compared to `GradientBoostingRegressor`, it provides a good balance, leading to its selection as the best model.\n",
        "\n",
        "Slight differences in R^2 scores are expected due to the nature of cross-validation and the final independent test set, but they should be within a reasonable range."
      ],
      "metadata": {
        "id": "u89CglZd07-u"
      }
    },
    {
      "cell_type": "markdown",
      "source": [
        "Let's see if we can improve on these using an Ensemble and a Stacking model.\n",
        "\n",
        "## Ensemble Model <a id=\"ensemble\"></a>\n",
        "\n",
        "Ensemble models leverage the strength of multiple models to improve overall performance, mitigate individual model weaknesses, and enhance robustness and generalizability.\n",
        "\n",
        "\n"
      ],
      "metadata": {
        "id": "2MLhtvJ34_1V"
      }
    },
    {
      "cell_type": "code",
      "source": [
        "# Define the ensemble model\n",
        "ensemble_model = VotingRegressor(estimators=[\n",
        "    ('lr', LinearRegression()),\n",
        "    ('rf', RandomForestRegressor(max_depth=20, n_estimators=200, random_state=42)),\n",
        "    ('gb', GradientBoostingRegressor(max_depth=3, n_estimators=200, random_state=42)),\n",
        "    ('lasso', Lasso(alpha=0.1, random_state=42))\n",
        "])\n",
        "\n",
        "# Train the ensemble model\n",
        "ensemble_model.fit(X_train, y_train)\n",
        "\n",
        "# Evaluate ensemble model performance\n",
        "ensemble_pred = ensemble_model.predict(X_test)\n",
        "mse_ensemble = mean_squared_error(y_test, ensemble_pred)\n",
        "r2_ensemble = r2_score(y_test, ensemble_pred)\n",
        "print(f'Ensemble MSE: {mse_ensemble}, Ensemble R²: {r2_ensemble}')"
      ],
      "metadata": {
        "colab": {
          "base_uri": "https://localhost:8080/"
        },
        "id": "SuYELv5rYcld",
        "outputId": "74a1e7f1-c4e0-47ec-f324-7f5dcfb56c06"
      },
      "execution_count": 30,
      "outputs": [
        {
          "output_type": "stream",
          "name": "stdout",
          "text": [
            "Ensemble MSE: 26880.84941551158, Ensemble R²: 0.9033558520787551\n"
          ]
        }
      ]
    },
    {
      "cell_type": "markdown",
      "source": [
        "## Stacked Model <a id=\"stacked\"></a>\n",
        "\n",
        "In a stacked model, we combine base models using another model (meta-model) to learn how to best combine the predictions."
      ],
      "metadata": {
        "id": "dYRNG6gw8BES"
      }
    },
    {
      "cell_type": "code",
      "source": [
        "# Define base models\n",
        "base_models = [\n",
        "    ('lr', LinearRegression()),\n",
        "    ('rf', RandomForestRegressor(max_depth=20, n_estimators=200, random_state=42)),\n",
        "    ('gb', GradientBoostingRegressor(max_depth=3, n_estimators=200, random_state=42)),\n",
        "    ('lasso', Lasso(alpha=0.1, random_state=42))\n",
        "]\n",
        "\n",
        "# Define the meta-model (stacker), using a robust model like linear regression for simplicity\n",
        "stacked_model = StackingRegressor(\n",
        "    estimators=base_models,\n",
        "    final_estimator=LinearRegression()\n",
        ")\n",
        "\n",
        "# Train the stacked model\n",
        "stacked_model.fit(X_train, y_train)\n",
        "\n",
        "# Evaluate stacked model performance\n",
        "stacked_pred = stacked_model.predict(X_test)\n",
        "mse_stacked = mean_squared_error(y_test, stacked_pred)\n",
        "r2_stacked = r2_score(y_test, stacked_pred)\n",
        "print(f'Stacked MSE: {mse_stacked}, Stacked R²: {r2_stacked}')"
      ],
      "metadata": {
        "colab": {
          "base_uri": "https://localhost:8080/"
        },
        "id": "0wVtdUuiYdRi",
        "outputId": "cc61d8a7-3baa-4266-ceba-1a50d6f1b99c"
      },
      "execution_count": 31,
      "outputs": [
        {
          "output_type": "stream",
          "name": "stdout",
          "text": [
            "Stacked MSE: 22672.374836178464, Stacked R²: 0.9184864914972093\n"
          ]
        }
      ]
    },
    {
      "cell_type": "markdown",
      "source": [
        "## Compare and Select the Best Model <a id=\"compare_select\"></a>\n",
        "\n",
        "These models did not improve on Lasso's scores so Lasso is the best choice for overall predictive accuracy.\n",
        "\n",
        "Below are the features Lasso found to be most significant.\n"
      ],
      "metadata": {
        "id": "Ey8QjU1hMCcB"
      }
    },
    {
      "cell_type": "code",
      "source": [
        "# Extract the feature columns\n",
        "feature_cols = X_train.columns\n",
        "\n",
        "# Feature importances for the Lasso model\n",
        "if isinstance(best_model.named_steps['regressor'], Lasso):\n",
        "    coefficients = pd.Series(best_model.named_steps['regressor'].coef_, index=feature_cols)\n",
        "    print(\"Feature importances (coefficients):\")\n",
        "    print(coefficients)\n",
        "else:\n",
        "    print(\"The best model is not Lasso, so no coefficients to display.\")"
      ],
      "metadata": {
        "colab": {
          "base_uri": "https://localhost:8080/"
        },
        "id": "IDpCvqz3hg0z",
        "outputId": "95e5df3f-a987-4cf1-a26e-00e6aedb9994"
      },
      "execution_count": 32,
      "outputs": [
        {
          "output_type": "stream",
          "name": "stdout",
          "text": [
            "Feature importances (coefficients):\n",
            "customer_total_orders                          176.541925\n",
            "customer_average_order_value                     0.999453\n",
            "customer_tenure_days                             0.135164\n",
            "customer_recency_days                           -0.003949\n",
            "customer_unique_products                        -0.000000\n",
            "customer_category_diversity                    -41.816728\n",
            "customer_average_product_price                   0.019144\n",
            "customer_total_units                            36.985330\n",
            "customer_average_delivery_time                   0.039436\n",
            "customer_average_shipping_cost                   0.056796\n",
            "customer_on_time_delivery_rate                   0.000000\n",
            "customer_average_installments                    0.023126\n",
            "customer_total_payment_transactions             -3.820038\n",
            "customer_preferred_payment_type_boleto           0.536414\n",
            "customer_preferred_payment_type_credit_card     -0.000000\n",
            "customer_preferred_payment_type_debit_card       0.000000\n",
            "customer_preferred_payment_type_voucher        -27.069039\n",
            "dtype: float64\n"
          ]
        }
      ]
    },
    {
      "cell_type": "markdown",
      "source": [
        "## Summary <a id=\"summary\"></a>\n",
        "\n",
        "In this capstone project, the goal was to improve targeted marketing strategies in a Brazilian e-commerce setting by accurately predicting Customer Lifetime Value (CLV) using a dataset of 100,000 anonymized orders from 2016 to 2018. The key metric for prediction was `customer_total_spend`.\n",
        "\n",
        "Here we used pre-processing, training, and modeling to make a decision on the model that would have the best predictive power.\n",
        "\n",
        "Initially, in the data wrangling portion of our capstone, we created some dervied features using the entire dataset. However, we know that data leakage occurs when information from outside the training set is used to create or transform features, leading to overly optimistic performance estimates during model evaluation. Therefore, to prevent data leakage, we first took the original dataset and divided it into training and test subsets. Features were then recreated on each subset, ensuring a realistic scenario for predicting new data.\n",
        "\n",
        "One-hot encoding then fit the encoder on the training subset and transformed both the training and test subsets. The encoded features were merged back into the original datasets after dropping the original categorical columns.\n",
        "\n",
        "The data (excluding non-relevant features) was split into training and test sets for modeling, and standardization was fit on the training set and transformed both the training and test sets to scale the data.\n",
        "\n",
        "The modeling began with linear regression, which served as the baseline model. Evaluation was done on both scaled and non-scaled data, revealing identical performance, confirming the original features were on a consistent scale.\n",
        "\n",
        "Alternative models were also explored, including Random Forest, Gradient Boosting, and Lasso, which were chosen for their diverse approaches: Linear Regression (already evaluated) and Lasso are both linear models but with different regularizations. Random Forest Regressor and Gradient Boosting Regressor are both tree-based, but Random Forest is bagging while Gradient Boosting is boosting.\n",
        "\n",
        "Ensemble modeling aggregated predictions through voting, while stacked modeling used a meta-model to combine base model predictions.\n",
        "\n",
        "Comparing all final models, the Lasso model emerged as the most accurate.\n",
        "\n",
        "In conclusion, the Lasso model provided the best predictive performance, marking it as the optimal model for predicting Customer Lifetime Value in this e-commerce context."
      ],
      "metadata": {
        "id": "n7Y75zLfNFmW"
      }
    },
    {
      "cell_type": "code",
      "source": [],
      "metadata": {
        "id": "ST_g2QfTEzrJ"
      },
      "execution_count": null,
      "outputs": []
    }
  ]
}